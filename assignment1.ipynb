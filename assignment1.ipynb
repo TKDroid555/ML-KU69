{
 "cells": [
  {
   "cell_type": "code",
   "execution_count": null,
   "id": "069f3c6b",
   "metadata": {},
   "outputs": [],
   "source": [
    "import pandas as pd\n",
    "\n",
    "df = pd.read_csv('CSV/Students Social Media Addiction.csv')"
   ]
  },
  {
   "cell_type": "markdown",
   "id": "c0d1a9b0",
   "metadata": {},
   "source": [
    "### สมาชิก\n",
    "* 6710405001 นายนรภัทร วัฒนะโชติ หมู่1\n",
    "* 6710451011 นายบุณยกร จันทร์เพ็ญ หมู่200\n",
    "\n",
    "<hr/>\n",
    "\n",
    "### ลิงค์ไปยังข้อมูลที่จะใช้ในระบบต้นแบบ\n",
    "* https://www.kaggle.com/datasets/adilshamim8/social-media-addiction-vs-relationships\n",
    "\n",
    "<hr/>\n",
    "\n",
    "### แหล่งที่มา\n",
    "* แบบสอบถามผู้คนกลุ่มตัวอย่าง\n",
    "\n",
    "<hr/>\n",
    "\n",
    "### รูปแบบการจัดเก็บ\n",
    "* Text Format | file CSV\n",
    "\n",
    "<hr/>\n",
    "\n",
    "### สิ่งที่ต้องการทำนาย\n",
    "* การใช้สื่อจะมีผลต่อสุขภาพกายและจิตของวัยรุ่นอย่างไร 1.อายุ 2.เพศ 3.ระดับชั้นการศึกษา\n",
    "\n",
    "<hr/>\n",
    "\n",
    "### ต้องมีการเตรียม/ประมวลผลข้อมูลส่วนไหนก่อนหรือไม่ เพราะอะไร อย่างไร\n",
    "* ควรจัดเรียงตัวของชั่วโมงในการใช้ในแต่ละวันก่อนเพราะเป็นจุดที่สำคัญที่ต้องการจะวิเคราะห์\n",
    "\n",
    "<hr/>\n",
    "\n",
    "### มีข้อมูลที่ไม่น่าจะได้ใช้ในระบบต้นแบบของเราอยู่ด้วยหรือไม่ เพราะอะไร\n",
    "* มี เช่นสัญชาติ (Country) เพราะการใช้socialmedia นั้นไม่เกี่ยวกับสัญชาติโดยตรงแต่เกี่ยวกับตัวบุคคลมากกว่า\n",
    "\n",
    "<hr/>\n",
    "\n",
    "### ข้อมูลควรถูกนำไปจัดเก็บในรูปแบบอื่นหรือไม่ เพราะอะไร อย่างไร\n",
    "* ไม่จําเป็นเพราะ CSV เก็บข้อมูลเป็น primitive type ได้ เพียงพอแล้วต่อการจัดเก็บข้อมูลที่จําเป็น\n"
   ]
  },
  {
   "cell_type": "code",
   "execution_count": null,
   "id": "96c6feb5",
   "metadata": {},
   "outputs": [
    {
     "data": {
      "text/plain": [
       "Student_ID                      705\n",
       "Age                             705\n",
       "Gender                          705\n",
       "Academic_Level                  705\n",
       "Country                         705\n",
       "Avg_Daily_Usage_Hours           705\n",
       "Most_Used_Platform              705\n",
       "Affects_Academic_Performance    705\n",
       "Sleep_Hours_Per_Night           705\n",
       "Mental_Health_Score             705\n",
       "Relationship_Status             705\n",
       "Conflicts_Over_Social_Media     705\n",
       "Addicted_Score                  705\n",
       "dtype: int64"
      ]
     },
     "execution_count": 14,
     "metadata": {},
     "output_type": "execute_result"
    }
   ],
   "source": [
    "df.count()\n",
    "# มีจํานวนกลุ่มตัวอย่าง 705 คน"
   ]
  },
  {
   "cell_type": "code",
   "execution_count": null,
   "id": "1cb1f3ad",
   "metadata": {},
   "outputs": [
    {
     "data": {
      "text/plain": [
       "['Student_ID',\n",
       " 'Age',\n",
       " 'Gender',\n",
       " 'Academic_Level',\n",
       " 'Country',\n",
       " 'Avg_Daily_Usage_Hours',\n",
       " 'Most_Used_Platform',\n",
       " 'Affects_Academic_Performance',\n",
       " 'Sleep_Hours_Per_Night',\n",
       " 'Mental_Health_Score',\n",
       " 'Relationship_Status',\n",
       " 'Conflicts_Over_Social_Media',\n",
       " 'Addicted_Score']"
      ]
     },
     "execution_count": 16,
     "metadata": {},
     "output_type": "execute_result"
    }
   ],
   "source": [
    "list(df.columns)\n",
    "# สิ่งที่ใช้ในการทำนาย\n",
    "\n",
    "# Avg_Daily_Usage_Hours \n",
    "# Most_Used_Platform \n",
    "# Affects_Academic_Performance \n",
    "# Sleep_Hours_Per_Night \n",
    "# Mental_Health_Score \n",
    "# Relationship_Status\n",
    "# Conflicts_Over_Social_Media\n"
   ]
  },
  {
   "cell_type": "markdown",
   "id": "73f4f033",
   "metadata": {},
   "source": [
    "### จํานวนกลุ่มตัวอย่าง\n",
    "* 705 คน\n",
    "\n",
    "<hr/>\n",
    "\n",
    "### สิ่งที่ใช้ในการทำนาย\n",
    "\n",
    "* Avg_Daily_Usage_Hours \n",
    "* Most_Used_Platform \n",
    "* Affects_Academic_Performance \n",
    "* Sleep_Hours_Per_Night \n",
    "* Mental_Health_Score \n",
    "* Relationship_Status\n",
    "* Conflicts_Over_Social_Media"
   ]
  }
 ],
 "metadata": {
  "kernelspec": {
   "display_name": ".venv",
   "language": "python",
   "name": "python3"
  },
  "language_info": {
   "codemirror_mode": {
    "name": "ipython",
    "version": 3
   },
   "file_extension": ".py",
   "mimetype": "text/x-python",
   "name": "python",
   "nbconvert_exporter": "python",
   "pygments_lexer": "ipython3",
   "version": "3.13.2"
  }
 },
 "nbformat": 4,
 "nbformat_minor": 5
}
